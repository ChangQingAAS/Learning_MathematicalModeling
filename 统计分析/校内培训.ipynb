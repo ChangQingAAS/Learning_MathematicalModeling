{
 "cells": [
  {
   "cell_type": "markdown",
   "metadata": {},
   "source": [
    "# 多元统计分析\n",
    "\n",
    "## 聚类分析\n",
    "\n",
    "### 特点：\n",
    "\n",
    "- 事先不知道类别的个数与结构；\n",
    "- 进行分析的数据是对象间的相似性或相异性（距离）；\n",
    "- 将距离近的对象归入一类。\n",
    "\n",
    "### 分类\n",
    "\n",
    "- 根据分类对象不同分为\n",
    "\n",
    "  - Q型聚类：对样本进行聚类\n",
    "\n",
    "  - R型聚类：对变量进行聚类\n",
    "\n",
    "- 根据聚类方法主要分为\n",
    "\n",
    "  - 系统聚类法\n",
    "  - 动态聚类法\n",
    "\n",
    "### 距离\n",
    "\n",
    "#### Minikowski距离：\n",
    "\n",
    "$$\n",
    "d(x,y) = [\\sum\\limits_{k=1}^p|x_{k} - y_{k}|^{m}]^{\\frac{1}{m}}，  x,y为p维列向量\n",
    "$$\n",
    "\n",
    "- m = 1时，为绝对距离\n",
    "- m = 2时，为欧氏距离\n",
    "- m = $\\infty$,  为切比雪夫距离，即 $\\mathop{max}\\limits_{1\\le k \\le p}|x_{k} - y_{k}|$\n",
    "\n",
    "#### Mahalanobis距离(聚类分析中常用)\n",
    "\n",
    "$$\n",
    "d(x,y) = \\sqrt{(x - y)^{T} \\sum\\nolimits^{-1} (x - y)}\n",
    "$$\n",
    "\n",
    "其中x, y为来自 p 维总体Z的样本观测值，Σ为Z 的协方差矩阵，实际中Σ往往是不知道的，常常需要用样本协方差来估计。马氏距离对一切线性变换是不变的，故不受量纲的影响。 \n"
   ]
  },
  {
   "cell_type": "markdown",
   "metadata": {},
   "source": [
    "#### R语句 \n",
    "```R\n",
    "dist(x,method=“euclidean”, diag=FALSE, upper=FALSE, p=2)\n",
    "```\n",
    "\n",
    "- method: 计算距离的方法\n",
    "\n",
    "  - “euclidean”: 欧式距离\n",
    "\n",
    "  - “maximum”: Chebyshev距离\n",
    "\n",
    "  - “manhattan”: 绝对值距离\n",
    "\n",
    "  - “minkowski”: Minkowski距离，p是Minkowski距离的阶数\n",
    "\n",
    "- diag=TRUE: 输出对角线上的距离\n",
    "- upper=TRUE: 输出上三角矩阵的值（默认值仅输出下 三角矩阵的值）\n",
    "  \n",
    "#### Python语句\n",
    "\n",
    "```python\n",
    "import rpy2.robjects as robjects\n",
    "\n",
    "x = [1, 2, 6, 8, 11]\n",
    "r = robjects.r\n",
    "res = r.dist(x)\n",
    "print(res)\n",
    "#    1  2  3  4\n",
    "# 2  1\n",
    "# 3  5  4\n",
    "# 4  7  6  2\n",
    "# 5 10  9  5  3\n",
    "```\n",
    "\n",
    "```python\n",
    "import rpy2\n",
    "import rpy2.robjects.numpy2ri\n",
    "\n",
    "R = rpy2.robjects.r\n",
    "r_code = \"\"\"\n",
    "x<-c(1,2,6,8,11)\n",
    "y<-dist(x)\n",
    "print(y)\n",
    "\"\"\"\n",
    "R(r_code)\n",
    "```\n",
    "### 注\n",
    "我用rpy2来实现这个感觉比较费劲。可能不太能从python 调用R语言，建议直接用R语言吧"
   ]
  },
  {
   "cell_type": "code",
   "execution_count": 3,
   "metadata": {},
   "outputs": [
    {
     "name": "stdout",
     "output_type": "stream",
     "text": [
      "   1  2  3  4\n",
      "2  1         \n",
      "3  5  4      \n",
      "4  7  6  2   \n",
      "5 10  9  5  3\n"
     ]
    }
   ],
   "source": [
    "# 示例\n",
    "x <- c(1, 2, 6, 8, 11)\n",
    "res <- dist(x, method = \"euclidean\", diag = FALSE, upper = FALSE, p = 2)\n",
    "print(res)"
   ]
  },
  {
   "cell_type": "markdown",
   "metadata": {},
   "source": [
    "## 标准化处理\n",
    "\n",
    "### 标准化处理\n",
    "\n",
    "当指标的测量值相差悬殊时，应先对数据进行标准化处理，再利用标准化的数据计算距离。\n",
    "\n",
    "#### 普通标准化变换\n",
    "\n",
    "$$\n",
    "X_{ij}^{*} = \\frac{X_{ij} - \\overline{X}_{j}}{S_{j}}\n",
    "$$\n",
    "\n",
    "\n",
    "i=1,2,…n表示第i个样本，j=1,2,…p表示样本的第j个指标，每个样本均有p个观测指标.       是第j个指标的样本均值\n",
    "\n",
    "#### 极差标准化变换\n",
    "\n",
    "$$\n",
    "X_{ij}^{*} = \\frac{X_{ij} - \\overline{X}_{j}}{R_{j}} \\\\\n",
    "其中，R_{j} = \\mathop{\\max}\\limits_{1\\le k \\le n}X_{kj} - \\mathop{\\max}\\limits_{1 \\le k \\le n}X_{kj}\n",
    "$$\n",
    "\n",
    "#### 极差正规化变换\n",
    "\n",
    "$$\n",
    "X_{ij}^{*} = \\frac{X_{ij} - \\mathop{\\min}\\limits_{1\\le k\\le n} X_{kj}}{R_{j}}\n",
    "$$\n",
    "\n",
    "##### 数据的中心化和标准化处理\n",
    "\n",
    "###### R语句\n",
    "\n",
    "```R\n",
    "scale(X,center = True, scale = True)\n",
    "```\n",
    "\n",
    "- X:样本数据矩阵 \n",
    "- center = TURE表示对数据做中心化变换\n",
    "- scale=TRUE表示对数据做标准化变化\n",
    "\n",
    "###### Python语句\n",
    "\n",
    "```python\n",
    "import rpy2\n",
    "import numpy\n",
    "import rpy2.robjects.numpy2ri\n",
    "\n",
    "rpy2.robjects.numpy2ri.activate()\n",
    "\n",
    "R = rpy2.robjects.r\n",
    "x = numpy.array([[1.0, 2.0], [3.0, 1.0]])\n",
    "res = R.scale(x, center=True, scale=True)\n",
    "print(res)\n",
    "```\n",
    "\n",
    "##### 对数据做极差标准化处理"
   ]
  },
  {
   "cell_type": "code",
   "execution_count": 4,
   "metadata": {},
   "outputs": [
    {
     "name": "stdout",
     "output_type": "stream",
     "text": [
      "  points    rebounds     blocks\n",
      "1  0.255  0.08552632  0.6041667\n",
      "2  0.175  0.40131579 -0.0625000\n",
      "3  0.455  0.45394737 -0.0625000\n",
      "4 -0.545  0.29605263 -0.2291667\n",
      "5 -0.345 -0.17763158 -0.0625000\n",
      "6 -0.185 -0.12500000  0.4375000\n",
      "7 -0.065 -0.54605263 -0.3958333\n",
      "8  0.255 -0.38815789 -0.2291667\n"
     ]
    }
   ],
   "source": [
    "\n",
    "x <- data.frame(\n",
    "    points = c(99, 97, 104, 79, 84, 88, 91, 99),\n",
    "    rebounds = c(34, 40, 41, 38, 29, 30, 22, 25),\n",
    "    blocks = c(12, 8, 8, 7, 8, 11, 6, 7)\n",
    ")\n",
    "# apply（）函数必须应用于dataframe或matrix\n",
    "center <- sweep(x, 2, apply(x, 2, mean))\n",
    "R <- apply(x, 2, max) - apply(x, 2, min)\n",
    "x_star <- sweep(center, 2, R, \"/\")\n",
    "# 若x_star<-sweep(center, 2, sd(x), \"/\"), 则得到（普通）标准化变换后的数据；\n",
    "print(x_star)"
   ]
  },
  {
   "cell_type": "markdown",
   "metadata": {},
   "source": [
    "sweep(x, MARGIN, STATS, FUN=\"-\", ...)\n",
    "\n",
    " - x:数组或矩阵；MARGIN:运算区域，对矩阵1表示行，2表示列；\n",
    "\n",
    " - STATS是统计量，apply(x, 2, mean)表示各列的均值；\n",
    "\n",
    " - FUN表示函数的运算，缺省值为减法运算。"
   ]
  },
  {
   "cell_type": "markdown",
   "metadata": {},
   "source": [
    "### 系统聚类法\n",
    "\n",
    "#### 聚类分析方法中最常用\n",
    "\n",
    "#### 基本思想\n",
    "\n",
    "- （1）视各样本（或变量）自成一类，规定类与类之间的距离（或相似系数）；\n",
    "- （2）把最相似的样本（或变量）聚为小类，再将已聚合的小类按相似性再聚合；\n",
    "- （3）最后将一切子类都聚合到一个大类，从而得到一个按相似性大小聚集起来的谱系关系\n",
    "\n",
    "#### 3.根据距离定义的不同分为\n",
    "\n",
    "- （1）最短距离法：类与类之间的距离定义为两类中最近样本间的距离；\n",
    "- （2）最长距离法：类与类之间的距离定义为两类中最远样本间的距离；\n",
    "- （3）类平均法：类与类之间的距离定义为两类中两两样本间距离的平均数；"
   ]
  },
  {
   "cell_type": "code",
   "execution_count": 5,
   "metadata": {},
   "outputs": [
    {
     "data": {
      "image/png": "[encoded data removed]",
      "text/plain": [
       "Plot with title \"Cluster Dendrogram\""
      ]
     },
     "metadata": {
      "image/png": {
       "height": 420,
       "width": 420
      }
     },
     "output_type": "display_data"
    }
   ],
   "source": [
    "x<-c(1,2,6,8,11); \n",
    "dim(x)<-c(5,1); \n",
    "d<-dist(x) #生成距离结构\n",
    "hc1<-hclust(d, \"single\"); hc2<-hclust(d, \"complete\")\n",
    "hc3<-hclust(d, \"median\"); hc4<-hclust(d, \"mcquitty\") #生成系统聚类\n",
    "opar <- par(mfrow = c(2, 2))\n",
    "plot(hc1,hang=-1); plot(hc2,hang=-1)\n",
    "plot(hc3,hang=-1); plot(hc4,hang=-1)\n",
    "par(opar)#  画出所有树形结构图，以2*2的形式画在一张图上"
   ]
  },
  {
   "cell_type": "markdown",
   "metadata": {},
   "source": [
    "- hclust():进行系统聚类的计算\n",
    "- plot():画出系统聚类的树形图\n",
    "hclust(d, method = \"complete\")\n",
    "\n",
    "- d:dist构成的距离结构，\n",
    "- method:系统聚类的方法（默认为最长距离法），其参数有：\n",
    " - “single”：最短距离法\n",
    " - “complete”：最长距离法\n",
    " - “average”：类平均法\n",
    " - \n",
    " \n",
    "plot(x, labels = NULL, hang = 0.1, main = \"Cluster \n",
    "\n",
    "Dendrogram\", sb = NULL, xlab = NULL, ylab =\"Height\", ...)\n",
    "\n",
    "x: hclust()函数生成的对象\n",
    "\n",
    "hang: 表明树形图中各类的位置，取负值表示树形图中的类从底部画起\n",
    "\n",
    "main: 绘图名称"
   ]
  },
  {
   "cell_type": "markdown",
   "metadata": {},
   "source": [
    "### 动态聚类法\n",
    "系统聚类：一次形成类后就不再改变；\n",
    "动态聚类：逐步聚类\n",
    "\n",
    "#### 基本思路\n",
    "\n",
    "首先粗略分类，然后按某种最优原则修改不合理的分类，直至分得比较合理为止，形成最终分类结果。\n",
    "\n",
    "#### 程序\n",
    "\n",
    "kmeans(x, centers, *iter.max*=10, *nstart*=1, algorithm*=c(“Hartigan-Wong”, “Lloyd”, “MacQueen”))\n",
    "\n",
    "- x是由数据构成的矩阵或数据框，\n",
    "- centers是聚类的个数或者初始类的中心，\n",
    "- iter.max为最大迭代次数（最大值为10），\n",
    "- nstart是随机集合的个数，\n",
    "- algorithm是动态聚类的算法。"
   ]
  },
  {
   "cell_type": "code",
   "execution_count": 11,
   "metadata": {},
   "outputs": [
    {
     "data": {
      "text/plain": [
       "K-means clustering with 2 clusters of sizes 2, 3\n",
       "\n",
       "Cluster means:\n",
       "      [,1]\n",
       "1 1.500000\n",
       "2 8.333333\n",
       "\n",
       "Clustering vector:\n",
       "[1] 1 1 2 2 2\n",
       "\n",
       "Within cluster sum of squares by cluster:\n",
       "[1]  0.50000 12.66667\n",
       " (between_SS / total_SS =  81.0 %)\n",
       "\n",
       "Available components:\n",
       "\n",
       "[1] \"cluster\"      \"centers\"      \"totss\"        \"withinss\"     \"tot.withinss\"\n",
       "[6] \"betweenss\"    \"size\"         \"iter\"         \"ifault\"      "
      ]
     },
     "metadata": {},
     "output_type": "display_data"
    }
   ],
   "source": [
    "x<-c(1,2,6,8,11)\n",
    "kmeans(x,2)"
   ]
  },
  {
   "cell_type": "markdown",
   "metadata": {},
   "source": [
    "![jupyter](https://cdn.jsdelivr.net/gh/ChangQingAAS/for_picgo/img/20220118145044.png)\n",
    "\n",
    "\n",
    "![jupyter](https://cdn.jsdelivr.net/gh/ChangQingAAS/for_picgo/img/20220118145402.png)"
   ]
  },
  {
   "cell_type": "code",
   "execution_count": 3,
   "metadata": {},
   "outputs": [
    {
     "name": "stderr",
     "output_type": "stream",
     "text": [
      "The \"ward\" method has been renamed to \"ward.D\"; note new \"ward.D2\"\n",
      "\n"
     ]
    },
    {
     "data": {
      "image/png": "[encoded data removed]",
      "text/plain": [
       "Plot with title \"Cluster Dendrogram\""
      ]
     },
     "metadata": {
      "image/png": {
       "height": 420,
       "width": 420
      }
     },
     "output_type": "display_data"
    }
   ],
   "source": [
    "X<-data.frame(\n",
    "   x1=c(2959.19, 2459.77, 1495.63, 1046.33, 1303.97, 1730.84, 1561.86, 1410.11, 3712.31, 2207.58, 2629.16, 1844.78, 2709.46, 1563.78, 1675.75, 1427.65, 1783.43, 1942.23, 3055.17, 2033.87, 2057.86, 2303.29, 1974.28, 1673.82, 2194.25, 2646.61, 1472.95, 1525.57, 1654.69, 1375.46, 1608.82), \n",
    "   x2=c(730.79, 495.47, 515.90, 477.77, 524.29, 553.90, 492.42, 510.71, 550.74, 449.37, 557.32, 430.29, 428.11, 303.65, 613.32, 431.79, 511.88, 512.27, 353.23, 300.82, 186.44, 589.99, 507.76, 437.75, 537.01, 839.70, 390.89, 472.98, 437.77, 480.99, 536.05),\n",
    "   x3=c(749.41, 697.33, 362.37, 290.15, 254.83, 246.91, 200.49, 211.88, 893.37, 572.40, 689.73, 271.28, 334.12, 233.81, 550.71, 288.55, 282.84, 401.39, 564.56, 338.65, 202.72, 516.21, 344.79, 461.61, 369.07, 204.44, 447.95, 328.90, 258.78, 273.84, 432.46), \n",
    "   x4=c(513.34, 302.87, 285.32, 208.57, 192.17, 279.81, 218.36, 277.11, 346.93, 211.92, 435.69, 126.33, 160.77, 107.90, 219.79, 208.14, 201.01, 206.06, 356.27, 157.78, 171.79, 236.55, 203.21, 153.32, 249.54, 209.11, 259.51, 219.86, 303.00, 317.32, 235.82),\n",
    "   x5=c(467.87, 284.19, 272.95, 201.50, 249.81, 239.18, 220.69, 224.65, 527.00, 302.09, 514.66, 250.56, 405.14, 209.70,272.59, 217.00, 237.60, 321.29, 811.88, 329.06, 329.65, 403.92, 240.24, 254.66, 290.84, 379.30, 230.61, 206.65, 244.93, 251.08, 250.28),\n",
    "   x6=c(1141.82, 735.97, 540.58, 414.72, 463.09, 445.20, 459.62, 376.82, 1034.98, 585.23, 795.87, 513.18, 461.67, 393.99, 599.43, 337.76, 617.74, 697.22, 873.06, 621.74, 477.17, 730.05, 575.10, 445.59, 561.91, 371.04, 490.90, 449.69, 479.53, 424.75, 541.30),\n",
    "   x7=c(478.42, 570.84, 364.91, 281.84, 287.87, 330.24, 360.48, 317.61, 720.33, 429.77, 575.76, 314.00, 535.13, 509.39, 371.62, 421.31, 523.52, 492.60, 1082.82, 587.02, 312.93,438.41, 430.36, 346.11, 407.70, 269.59, 469.10, 249.66, 288.56, 228.73, 344.85),\n",
    "   x8=c(457.64, 305.08, 188.63, 212.10, 192.96, 163.86, 147.76, 152.85, 462.03, 252.54, 323.36, 151.39, 232.29, 160.12, 211.84, 165.32, 182.52, 226.45, 420.81, 218.27, 279.19, 225.80, 223.46, 191.48, 330.95, 389.33, 191.34, 228.19, 236.51, 195.93, 214.40),\n",
    "   row.names = c(\"北京\", \"天津\", \"河北\", \"山西\", \"内蒙古\", \"辽宁\", \"吉林\", \"黑龙江\", \"上海\", \"江苏\", \"浙江\", \"安徽\", \"福建\", \"江西\", \"山东\",  \"河南\", \"湖北\", \"湖南\", \"广东\", \"广西\", \"海南\", \"重庆\", \"四川\", \"贵州\", \"云南\", \"西藏\", \"陕西\", \"甘肃\", \"青海\", \"宁夏\", \"新疆\")\n",
    ")\n",
    "\n",
    "Province<-dist(scale(X))\n",
    "hc1<-hclust(Province, \"complete\")\n",
    "hc2<-hclust(Province, \"average\")\n",
    "hc3<-hclust(Province, \"centroid\")\n",
    "hc4<-hclust(Province, \"ward\")\n",
    "\n",
    "opar<-par(mfrow=c(2,1), mar=c(5.2,4,0,0))\n",
    "plot(hc1,hang=-1)\n",
    "re1<-rect.hclust(hc1,k=5,border=\"red\")\n",
    "plot(hc2,hang=-1)\n",
    "re2<-rect.hclust(hc2,k=5,border=\"red\")\n",
    "par(opar)"
   ]
  },
  {
   "cell_type": "code",
   "execution_count": 4,
   "metadata": {},
   "outputs": [
    {
     "data": {
      "text/plain": [
       "K-means clustering with 5 clusters of sizes 4, 6, 1, 4, 16\n",
       "\n",
       "Cluster means:\n",
       "          x1          x2         x3         x4          x5         x6\n",
       "1  1.8603262  0.48933532  1.8245115  1.9535741  2.10205782  2.0677642\n",
       "2  0.2681592  0.36385418  0.6773026 -0.0761060  0.01145940  0.4330305\n",
       "3  1.1255255  2.91079330 -1.0645632 -0.4082114  0.53291392 -1.0476079\n",
       "4  0.2029830 -1.53019285 -0.6594861 -1.0978219  0.05751333 -0.4270452\n",
       "5 -0.6867323 -0.05815552 -0.4787096 -0.1598851 -0.57749718 -0.5070907\n",
       "          x7         x8\n",
       "1  1.6888083  1.9636868\n",
       "2  0.1275875  0.1786530\n",
       "3 -0.9562089  1.6612664\n",
       "4  0.3315452 -0.2336878\n",
       "5 -0.4931706 -0.6033238\n",
       "\n",
       "Clustering vector:\n",
       "  北京   天津   河北   山西 内蒙古   辽宁   吉林 黑龙江   上海   江苏   浙江 \n",
       "     1      2      5      5      5      5      5      5      1      2      1 \n",
       "  安徽   福建   江西   山东   河南   湖北   湖南   广东   广西   海南   重庆 \n",
       "     5      4      4      2      5      5      2      1      4      4      2 \n",
       "  四川   贵州   云南   西藏   陕西   甘肃   青海   宁夏   新疆 \n",
       "     5      5      2      3      5      5      5      5      5 \n",
       "\n",
       "Within cluster sum of squares by cluster:\n",
       "[1] 26.360523  9.370840  0.000000  9.035662 20.384632\n",
       " (between_SS / total_SS =  72.9 %)\n",
       "\n",
       "Available components:\n",
       "\n",
       "[1] \"cluster\"      \"centers\"      \"totss\"        \"withinss\"     \"tot.withinss\"\n",
       "[6] \"betweenss\"    \"size\"         \"iter\"         \"ifault\"      "
      ]
     },
     "metadata": {},
     "output_type": "display_data"
    }
   ],
   "source": [
    " kmeans(scale(X),5)\n"
   ]
  },
  {
   "cell_type": "markdown",
   "metadata": {},
   "source": [
    "## 主成分分析法\n",
    "\n",
    "### 基本思想\n",
    "\n",
    "实际问题中的变量的重要性有所不同，且众多变量间有一定的相关关系。通过这种相关性对这些变量加以改造，用为数较少的新变量反映原变量提供的大部分信息，简化原问题。即数据降维\n",
    "\n",
    "主成分分析法就是在这种降维思想下产生的处理高维数据的统计方法。\n",
    "\n",
    "### 基本方法\n",
    "\n",
    "通过适当构造原变量的线性组合，产生一列互不相关的新变量，从中选出少数几个新变量并使它们含有尽可能多的原变量带有的信息，从而使用少数几个新变量代替原变量，以分析原问题。\n",
    "\n",
    "变量中所含“信息”的大小通常用该变量的方差或样本方差来度量。\n",
    "\n",
    "如常数a,Var(a) = 0 ,我们通过a，只能知道a这个常数，其所含信息少。\n",
    "\n",
    "### 主成分的定义\n",
    "\n",
    "设$X = (X_{1}, X_{2},……,X_{p})^{T}$为实际问题涉及的p个随机变量构成的向量，记X的均值为$\\mu$，协方差阵为$\\sum$.\n",
    "\n",
    "考虑线性组合\n",
    "$$\n",
    "\\left\\{\n",
    "\\begin{aligned}\n",
    "Y_{1} &  = & a_{1}^{T}X \\\\\n",
    ". \\\\\n",
    ". \\\\\n",
    "Y_{p} &  = & a_{p}^{T}X \\\\\n",
    "\\end{aligned}\n",
    "\\right.\n",
    "$$\n",
    " \n",
    "\n",
    "#### 求矩阵的特征值和特征向量\n",
    " "
   ]
  },
  {
   "cell_type": "code",
   "execution_count": 10,
   "metadata": {},
   "outputs": [
    {
     "data": {
      "text/plain": [
       "eigen() decomposition\n",
       "$values\n",
       "[1] 5.8284271 2.0000000 0.1715729\n",
       "\n",
       "$vectors\n",
       "           [,1] [,2]      [,3]\n",
       "[1,] -0.3826834    0 0.9238795\n",
       "[2,]  0.9238795    0 0.3826834\n",
       "[3,]  0.0000000    1 0.0000000\n"
      ]
     },
     "metadata": {},
     "output_type": "display_data"
    }
   ],
   "source": [
    "a <- c(1, -2, 0, -2, 5, 0, 0, 0, 2)\n",
    "# 由向量a构造一3列的矩阵， byrow=T表示生成矩阵的数据按行放置；\n",
    "b <- matrix(data = a, ncol = 3, byrow = T)\n",
    "c <- eigen(b) # 求b的特征值与特征向量\n",
    "c"
   ]
  },
  {
   "cell_type": "markdown",
   "metadata": {},
   "source": [
    "其中涉及函数的用法：\n",
    "\n",
    "- matrix (data=NA, nrow=1, ncol=1, byrow=FALSE,dimnames=NULL)\n",
    "- data:向量数据；nrow:矩阵行数；ncol:矩阵列数；\n",
    "- byrow=TRUE:生成矩阵的数据按行放置；\n",
    "  - byrow=FALSE(默认值):数据按列放置；\n",
    "- dianames:数组维（如矩阵行与列）的名字，默认值为空；\n",
    "- A=matrix(1:15, nrow=3, ncol=5, byrow=T)\n",
    "  - 与下面两格式等价\n",
    "    - A=matrix(1:15, nrow=3, byrow=T)\n",
    "    - A=matrix(1:15, ncol=5, byrow=T)"
   ]
  },
  {
   "cell_type": "markdown",
   "metadata": {},
   "source": [
    "根据30名中学生的身高（X1）、体重（X2）、胸围（X3）和坐高（X4）数据，对这30名中学生身体的4项指标作主成分分析。\n",
    "\n",
    "![jupyter](https://cdn.jsdelivr.net/gh/ChangQingAAS/for_picgo/img/20220118150323.png)"
   ]
  },
  {
   "cell_type": "code",
   "execution_count": 5,
   "metadata": {},
   "outputs": [],
   "source": [
    "#用数据框形式输入数据\n",
    "student<-data.frame(\n",
    " X1=c(148, 139, 160, 149, 159, 142, 153, 150, 151, 139, \n",
    "140, 161, 158, 140, 137, 152, 149, 145, 160, 156, \n",
    "151, 147, 157, 147, 157, 151, 144, 141, 139, 148), \n",
    "X2=c(41, 34, 49, 36, 45, 31, 43, 43, 42, 31, \n",
    " 29, 47, 49, 33, 31, 35, 47, 35, 47, 44,\n",
    " 42, 38, 39, 30, 48, 36, 36, 30, 32, 38),\n",
    "X3=c(72, 71, 77, 67, 80, 66, 76, 77, 77, 68, \n",
    " 64, 78, 78, 67, 66, 73, 82, 70, 74, 78, \n",
    "73, 73, 68, 65, 80, 74, 68, 67, 68, 70),\n",
    "X4=c(78, 76, 86, 79, 86, 76, 83, 79, 80, 74, \n",
    "74, 84, 83, 77, 73, 79, 79, 77, 87, 85, \n",
    "82, 78, 80, 75, 88, 80, 76, 76, 73, 78)\n",
    ")\n"
   ]
  },
  {
   "cell_type": "code",
   "execution_count": 6,
   "metadata": {},
   "outputs": [
    {
     "data": {
      "text/plain": [
       "Importance of components:\n",
       "                          Comp.1     Comp.2     Comp.3     Comp.4\n",
       "Standard deviation     1.8817805 0.55980636 0.28179594 0.25711844\n",
       "Proportion of Variance 0.8852745 0.07834579 0.01985224 0.01652747\n",
       "Cumulative Proportion  0.8852745 0.96362029 0.98347253 1.00000000\n",
       "\n",
       "Loadings:\n",
       "   Comp.1 Comp.2 Comp.3 Comp.4\n",
       "X1  0.497  0.543  0.450  0.506\n",
       "X2  0.515 -0.210  0.462 -0.691\n",
       "X3  0.481 -0.725 -0.175  0.461\n",
       "X4  0.507  0.368 -0.744 -0.232"
      ]
     },
     "metadata": {},
     "output_type": "display_data"
    }
   ],
   "source": [
    "student.pr<-princomp(student, cor=TRUE)\n",
    "# 作主成分分析\n",
    "summary(student.pr, loadings=TRUE)"
   ]
  },
  {
   "cell_type": "markdown",
   "metadata": {},
   "source": [
    "- Standard deviation：各主成分的标准差，即相应特征值的 开方；\n",
    "- Proportion of Variance：各主成分的贡献率；\n",
    "- Cumulative Proportion：各主成分的累积贡献率。\n",
    "  - 此例中前两个主成分的累积贡献率已达96%，所以另外两个 主成分可以舍去，达到降维。\n",
    "- Loadings: 载荷矩阵（主成分的系数），每列为相应特征值对应的单位正交化特征向量, 每列对应一主成分的系数;\n",
    "  - 如Y1=-0.497X1-0.515X2-0.481X3-0.507X4。"
   ]
  },
  {
   "cell_type": "markdown",
   "metadata": {},
   "source": [
    "由载荷矩阵可看到第1主成分对应系数的符号都相同, 其值在0.5左右, 反映了中学生身材的魁梧程度:身材高大的同学对应的X1, X2, X3, X4这4个指标都比较大,第1主成分的值就较小(第1主成分系数均为负值);身材娇小的同学第1主成分就较大.称第1主成分为大小因子.第2主成分是高度与围度的差(X1,X4系数为正, X2,X3系数为负),第2主成分大说明该同学瘦高, 称第2主成分是体形因子.\n",
    "\n",
    "进一步, 还可通过样本主成分的观测值(predict()的结果)和散点图(biplot()的结果)来分析每位同学的体形和健康因素."
   ]
  },
  {
   "cell_type": "markdown",
   "metadata": {},
   "source": [
    "1.princomp(x, cor=FALSE):主成分分析的命令\n",
    "   - x:用于主成分分析的数据，以数值矩阵和数据框形式给出；\n",
    "   - cor=FALSE（默认值）：用样本的协方差阵作主成分分析；\n",
    "     - cor=TRUE：用样本的相关矩阵作主成分分析.\n",
    "   - princomp(~X1+X2+X3+X4,data=student, cor=T) 同 princomp(student, cor=TRUE)\n",
    "\n",
    "2.summary(object, loading=FALSE): 提取主成分的信息\n",
    "   - object：princomp()得到的对象;\n",
    "   - loading=FALSE: 不显示载荷矩阵.\n"
   ]
  },
  {
   "cell_type": "code",
   "execution_count": 7,
   "metadata": {},
   "outputs": [
    {
     "data": {
      "text/html": [
       "30"
      ],
      "text/latex": [
       "30"
      ],
      "text/markdown": [
       "30"
      ],
      "text/plain": [
       "[1] 30"
      ]
     },
     "metadata": {},
     "output_type": "display_data"
    }
   ],
   "source": [
    "student.pr$n #输出样本观测数 "
   ]
  },
  {
   "cell_type": "code",
   "execution_count": 8,
   "metadata": {},
   "outputs": [
    {
     "data": {
      "text/html": [
       "<style>\n",
       ".dl-inline {width: auto; margin:0; padding: 0}\n",
       ".dl-inline>dt, .dl-inline>dd {float: none; width: auto; display: inline-block}\n",
       ".dl-inline>dt::after {content: \":\\0020\"; padding-right: .5ex}\n",
       ".dl-inline>dt:not(:first-of-type) {padding-left: .5ex}\n",
       "</style><dl class=dl-inline><dt>Comp.1</dt><dd>1.88178053904372</dd><dt>Comp.2</dt><dd>0.559806357166647</dd><dt>Comp.3</dt><dd>0.281795943253855</dd><dt>Comp.4</dt><dd>0.257118439085584</dd></dl>\n"
      ],
      "text/latex": [
       "\\begin{description*}\n",
       "\\item[Comp.1] 1.88178053904372\n",
       "\\item[Comp.2] 0.559806357166647\n",
       "\\item[Comp.3] 0.281795943253855\n",
       "\\item[Comp.4] 0.257118439085584\n",
       "\\end{description*}\n"
      ],
      "text/markdown": [
       "Comp.1\n",
       ":   1.88178053904372Comp.2\n",
       ":   0.559806357166647Comp.3\n",
       ":   0.281795943253855Comp.4\n",
       ":   0.257118439085584\n",
       "\n"
      ],
      "text/plain": [
       "   Comp.1    Comp.2    Comp.3    Comp.4 \n",
       "1.8817805 0.5598064 0.2817959 0.2571184 "
      ]
     },
     "metadata": {},
     "output_type": "display_data"
    }
   ],
   "source": [
    "student.pr$sdev #输出主成分的标准差\n"
   ]
  },
  {
   "cell_type": "code",
   "execution_count": 9,
   "metadata": {},
   "outputs": [
    {
     "data": {
      "text/html": [
       "<style>\n",
       ".dl-inline {width: auto; margin:0; padding: 0}\n",
       ".dl-inline>dt, .dl-inline>dd {float: none; width: auto; display: inline-block}\n",
       ".dl-inline>dt::after {content: \":\\0020\"; padding-right: .5ex}\n",
       ".dl-inline>dt:not(:first-of-type) {padding-left: .5ex}\n",
       "</style><dl class=dl-inline><dt>X1</dt><dd>149</dd><dt>X2</dt><dd>38.7</dd><dt>X3</dt><dd>72.2333333333333</dd><dt>X4</dt><dd>79.3666666666667</dd></dl>\n"
      ],
      "text/latex": [
       "\\begin{description*}\n",
       "\\item[X1] 149\n",
       "\\item[X2] 38.7\n",
       "\\item[X3] 72.2333333333333\n",
       "\\item[X4] 79.3666666666667\n",
       "\\end{description*}\n"
      ],
      "text/markdown": [
       "X1\n",
       ":   149X2\n",
       ":   38.7X3\n",
       ":   72.2333333333333X4\n",
       ":   79.3666666666667\n",
       "\n"
      ],
      "text/plain": [
       "       X1        X2        X3        X4 \n",
       "149.00000  38.70000  72.23333  79.36667 "
      ]
     },
     "metadata": {},
     "output_type": "display_data"
    }
   ],
   "source": [
    "student.pr$center #输出原始变量的均值\n"
   ]
  },
  {
   "cell_type": "code",
   "execution_count": 10,
   "metadata": {},
   "outputs": [
    {
     "data": {
      "text/html": [
       "<style>\n",
       ".dl-inline {width: auto; margin:0; padding: 0}\n",
       ".dl-inline>dt, .dl-inline>dd {float: none; width: auto; display: inline-block}\n",
       ".dl-inline>dt::after {content: \":\\0020\"; padding-right: .5ex}\n",
       ".dl-inline>dt:not(:first-of-type) {padding-left: .5ex}\n",
       "</style><dl class=dl-inline><dt>X1</dt><dd>7.19258877827263</dd><dt>X2</dt><dd>6.35164020811423</dd><dt>X3</dt><dd>5.06414410888509</dd><dt>X4</dt><dd>4.19907397198742</dd></dl>\n"
      ],
      "text/latex": [
       "\\begin{description*}\n",
       "\\item[X1] 7.19258877827263\n",
       "\\item[X2] 6.35164020811423\n",
       "\\item[X3] 5.06414410888509\n",
       "\\item[X4] 4.19907397198742\n",
       "\\end{description*}\n"
      ],
      "text/markdown": [
       "X1\n",
       ":   7.19258877827263X2\n",
       ":   6.35164020811423X3\n",
       ":   5.06414410888509X4\n",
       ":   4.19907397198742\n",
       "\n"
      ],
      "text/plain": [
       "      X1       X2       X3       X4 \n",
       "7.192589 6.351640 5.064144 4.199074 "
      ]
     },
     "metadata": {},
     "output_type": "display_data"
    }
   ],
   "source": [
    "student.pr$scale #输出原始变量的标准差\n"
   ]
  },
  {
   "cell_type": "code",
   "execution_count": 11,
   "metadata": {},
   "outputs": [
    {
     "data": {
      "text/html": [
       "<table class=\"dataframe\">\n",
       "<caption>A matrix: 30 × 4 of type dbl</caption>\n",
       "<thead>\n",
       "\t<tr><th scope=col>Comp.1</th><th scope=col>Comp.2</th><th scope=col>Comp.3</th><th scope=col>Comp.4</th></tr>\n",
       "</thead>\n",
       "<tbody>\n",
       "\t<tr><td>-0.06990950</td><td>-0.23813701</td><td> 0.35509248</td><td>-0.266120139</td></tr>\n",
       "\t<tr><td>-1.59526340</td><td>-0.71847399</td><td>-0.32813232</td><td>-0.118056646</td></tr>\n",
       "\t<tr><td> 2.84793151</td><td> 0.38956679</td><td> 0.09731731</td><td>-0.279482487</td></tr>\n",
       "\t<tr><td>-0.75996988</td><td> 0.80604335</td><td> 0.04945722</td><td>-0.162949298</td></tr>\n",
       "\t<tr><td> 2.73966777</td><td> 0.01718087</td><td>-0.36012615</td><td> 0.358653044</td></tr>\n",
       "\t<tr><td>-2.10583168</td><td> 0.32284393</td><td>-0.18600422</td><td>-0.036456084</td></tr>\n",
       "\t<tr><td> 1.42105591</td><td>-0.06053165</td><td>-0.21093321</td><td>-0.044223092</td></tr>\n",
       "\t<tr><td> 0.82583977</td><td>-0.78102576</td><td> 0.27557798</td><td> 0.057288572</td></tr>\n",
       "\t<tr><td> 0.93464402</td><td>-0.58469242</td><td> 0.08814136</td><td> 0.181037746</td></tr>\n",
       "\t<tr><td>-2.36463820</td><td>-0.36532199</td><td>-0.08840476</td><td> 0.045520127</td></tr>\n",
       "\t<tr><td>-2.83741916</td><td> 0.34875841</td><td>-0.03310423</td><td>-0.031146930</td></tr>\n",
       "\t<tr><td> 2.60851224</td><td> 0.21278728</td><td> 0.33398037</td><td> 0.210157574</td></tr>\n",
       "\t<tr><td> 2.44253342</td><td>-0.16769496</td><td> 0.46918095</td><td>-0.162987830</td></tr>\n",
       "\t<tr><td>-1.86630669</td><td> 0.05021384</td><td>-0.37720280</td><td>-0.358821916</td></tr>\n",
       "\t<tr><td>-2.81347421</td><td>-0.31790107</td><td> 0.03291329</td><td>-0.222035112</td></tr>\n",
       "\t<tr><td>-0.06392983</td><td> 0.20718448</td><td>-0.04334340</td><td> 0.703533624</td></tr>\n",
       "\t<tr><td> 1.55561022</td><td>-1.70439674</td><td> 0.33126406</td><td> 0.007551879</td></tr>\n",
       "\t<tr><td>-1.07392251</td><td>-0.06763418</td><td>-0.02283648</td><td> 0.048606680</td></tr>\n",
       "\t<tr><td> 2.52174212</td><td> 0.97274301</td><td>-0.12164633</td><td>-0.390667991</td></tr>\n",
       "\t<tr><td> 2.14072377</td><td> 0.02217881</td><td>-0.37410972</td><td> 0.129548960</td></tr>\n",
       "\t<tr><td> 0.79624422</td><td> 0.16307887</td><td>-0.12781270</td><td>-0.294140762</td></tr>\n",
       "\t<tr><td>-0.28708321</td><td>-0.35744666</td><td> 0.03962116</td><td> 0.080991989</td></tr>\n",
       "\t<tr><td> 0.25151075</td><td> 1.25555188</td><td> 0.55617325</td><td> 0.109068939</td></tr>\n",
       "\t<tr><td>-2.05706032</td><td> 0.78894494</td><td> 0.26552109</td><td> 0.388088643</td></tr>\n",
       "\t<tr><td> 3.08596855</td><td>-0.05775318</td><td>-0.62110421</td><td>-0.218939612</td></tr>\n",
       "\t<tr><td> 0.16367555</td><td> 0.04317932</td><td>-0.24481850</td><td> 0.560248997</td></tr>\n",
       "\t<tr><td>-1.37265053</td><td> 0.02220972</td><td> 0.23378320</td><td>-0.257399715</td></tr>\n",
       "\t<tr><td>-2.16097778</td><td> 0.13733233</td><td>-0.35589739</td><td> 0.093123683</td></tr>\n",
       "\t<tr><td>-2.40434827</td><td>-0.48613137</td><td> 0.16154441</td><td>-0.007914021</td></tr>\n",
       "\t<tr><td>-0.50287468</td><td> 0.14734317</td><td> 0.20590831</td><td>-0.122078819</td></tr>\n",
       "</tbody>\n",
       "</table>\n"
      ],
      "text/latex": [
       "A matrix: 30 × 4 of type dbl\n",
       "\\begin{tabular}{llll}\n",
       " Comp.1 & Comp.2 & Comp.3 & Comp.4\\\\\n",
       "\\hline\n",
       "\t -0.06990950 & -0.23813701 &  0.35509248 & -0.266120139\\\\\n",
       "\t -1.59526340 & -0.71847399 & -0.32813232 & -0.118056646\\\\\n",
       "\t  2.84793151 &  0.38956679 &  0.09731731 & -0.279482487\\\\\n",
       "\t -0.75996988 &  0.80604335 &  0.04945722 & -0.162949298\\\\\n",
       "\t  2.73966777 &  0.01718087 & -0.36012615 &  0.358653044\\\\\n",
       "\t -2.10583168 &  0.32284393 & -0.18600422 & -0.036456084\\\\\n",
       "\t  1.42105591 & -0.06053165 & -0.21093321 & -0.044223092\\\\\n",
       "\t  0.82583977 & -0.78102576 &  0.27557798 &  0.057288572\\\\\n",
       "\t  0.93464402 & -0.58469242 &  0.08814136 &  0.181037746\\\\\n",
       "\t -2.36463820 & -0.36532199 & -0.08840476 &  0.045520127\\\\\n",
       "\t -2.83741916 &  0.34875841 & -0.03310423 & -0.031146930\\\\\n",
       "\t  2.60851224 &  0.21278728 &  0.33398037 &  0.210157574\\\\\n",
       "\t  2.44253342 & -0.16769496 &  0.46918095 & -0.162987830\\\\\n",
       "\t -1.86630669 &  0.05021384 & -0.37720280 & -0.358821916\\\\\n",
       "\t -2.81347421 & -0.31790107 &  0.03291329 & -0.222035112\\\\\n",
       "\t -0.06392983 &  0.20718448 & -0.04334340 &  0.703533624\\\\\n",
       "\t  1.55561022 & -1.70439674 &  0.33126406 &  0.007551879\\\\\n",
       "\t -1.07392251 & -0.06763418 & -0.02283648 &  0.048606680\\\\\n",
       "\t  2.52174212 &  0.97274301 & -0.12164633 & -0.390667991\\\\\n",
       "\t  2.14072377 &  0.02217881 & -0.37410972 &  0.129548960\\\\\n",
       "\t  0.79624422 &  0.16307887 & -0.12781270 & -0.294140762\\\\\n",
       "\t -0.28708321 & -0.35744666 &  0.03962116 &  0.080991989\\\\\n",
       "\t  0.25151075 &  1.25555188 &  0.55617325 &  0.109068939\\\\\n",
       "\t -2.05706032 &  0.78894494 &  0.26552109 &  0.388088643\\\\\n",
       "\t  3.08596855 & -0.05775318 & -0.62110421 & -0.218939612\\\\\n",
       "\t  0.16367555 &  0.04317932 & -0.24481850 &  0.560248997\\\\\n",
       "\t -1.37265053 &  0.02220972 &  0.23378320 & -0.257399715\\\\\n",
       "\t -2.16097778 &  0.13733233 & -0.35589739 &  0.093123683\\\\\n",
       "\t -2.40434827 & -0.48613137 &  0.16154441 & -0.007914021\\\\\n",
       "\t -0.50287468 &  0.14734317 &  0.20590831 & -0.122078819\\\\\n",
       "\\end{tabular}\n"
      ],
      "text/markdown": [
       "\n",
       "A matrix: 30 × 4 of type dbl\n",
       "\n",
       "| Comp.1 | Comp.2 | Comp.3 | Comp.4 |\n",
       "|---|---|---|---|\n",
       "| -0.06990950 | -0.23813701 |  0.35509248 | -0.266120139 |\n",
       "| -1.59526340 | -0.71847399 | -0.32813232 | -0.118056646 |\n",
       "|  2.84793151 |  0.38956679 |  0.09731731 | -0.279482487 |\n",
       "| -0.75996988 |  0.80604335 |  0.04945722 | -0.162949298 |\n",
       "|  2.73966777 |  0.01718087 | -0.36012615 |  0.358653044 |\n",
       "| -2.10583168 |  0.32284393 | -0.18600422 | -0.036456084 |\n",
       "|  1.42105591 | -0.06053165 | -0.21093321 | -0.044223092 |\n",
       "|  0.82583977 | -0.78102576 |  0.27557798 |  0.057288572 |\n",
       "|  0.93464402 | -0.58469242 |  0.08814136 |  0.181037746 |\n",
       "| -2.36463820 | -0.36532199 | -0.08840476 |  0.045520127 |\n",
       "| -2.83741916 |  0.34875841 | -0.03310423 | -0.031146930 |\n",
       "|  2.60851224 |  0.21278728 |  0.33398037 |  0.210157574 |\n",
       "|  2.44253342 | -0.16769496 |  0.46918095 | -0.162987830 |\n",
       "| -1.86630669 |  0.05021384 | -0.37720280 | -0.358821916 |\n",
       "| -2.81347421 | -0.31790107 |  0.03291329 | -0.222035112 |\n",
       "| -0.06392983 |  0.20718448 | -0.04334340 |  0.703533624 |\n",
       "|  1.55561022 | -1.70439674 |  0.33126406 |  0.007551879 |\n",
       "| -1.07392251 | -0.06763418 | -0.02283648 |  0.048606680 |\n",
       "|  2.52174212 |  0.97274301 | -0.12164633 | -0.390667991 |\n",
       "|  2.14072377 |  0.02217881 | -0.37410972 |  0.129548960 |\n",
       "|  0.79624422 |  0.16307887 | -0.12781270 | -0.294140762 |\n",
       "| -0.28708321 | -0.35744666 |  0.03962116 |  0.080991989 |\n",
       "|  0.25151075 |  1.25555188 |  0.55617325 |  0.109068939 |\n",
       "| -2.05706032 |  0.78894494 |  0.26552109 |  0.388088643 |\n",
       "|  3.08596855 | -0.05775318 | -0.62110421 | -0.218939612 |\n",
       "|  0.16367555 |  0.04317932 | -0.24481850 |  0.560248997 |\n",
       "| -1.37265053 |  0.02220972 |  0.23378320 | -0.257399715 |\n",
       "| -2.16097778 |  0.13733233 | -0.35589739 |  0.093123683 |\n",
       "| -2.40434827 | -0.48613137 |  0.16154441 | -0.007914021 |\n",
       "| -0.50287468 |  0.14734317 |  0.20590831 | -0.122078819 |\n",
       "\n"
      ],
      "text/plain": [
       "      Comp.1      Comp.2      Comp.3      Comp.4      \n",
       " [1,] -0.06990950 -0.23813701  0.35509248 -0.266120139\n",
       " [2,] -1.59526340 -0.71847399 -0.32813232 -0.118056646\n",
       " [3,]  2.84793151  0.38956679  0.09731731 -0.279482487\n",
       " [4,] -0.75996988  0.80604335  0.04945722 -0.162949298\n",
       " [5,]  2.73966777  0.01718087 -0.36012615  0.358653044\n",
       " [6,] -2.10583168  0.32284393 -0.18600422 -0.036456084\n",
       " [7,]  1.42105591 -0.06053165 -0.21093321 -0.044223092\n",
       " [8,]  0.82583977 -0.78102576  0.27557798  0.057288572\n",
       " [9,]  0.93464402 -0.58469242  0.08814136  0.181037746\n",
       "[10,] -2.36463820 -0.36532199 -0.08840476  0.045520127\n",
       "[11,] -2.83741916  0.34875841 -0.03310423 -0.031146930\n",
       "[12,]  2.60851224  0.21278728  0.33398037  0.210157574\n",
       "[13,]  2.44253342 -0.16769496  0.46918095 -0.162987830\n",
       "[14,] -1.86630669  0.05021384 -0.37720280 -0.358821916\n",
       "[15,] -2.81347421 -0.31790107  0.03291329 -0.222035112\n",
       "[16,] -0.06392983  0.20718448 -0.04334340  0.703533624\n",
       "[17,]  1.55561022 -1.70439674  0.33126406  0.007551879\n",
       "[18,] -1.07392251 -0.06763418 -0.02283648  0.048606680\n",
       "[19,]  2.52174212  0.97274301 -0.12164633 -0.390667991\n",
       "[20,]  2.14072377  0.02217881 -0.37410972  0.129548960\n",
       "[21,]  0.79624422  0.16307887 -0.12781270 -0.294140762\n",
       "[22,] -0.28708321 -0.35744666  0.03962116  0.080991989\n",
       "[23,]  0.25151075  1.25555188  0.55617325  0.109068939\n",
       "[24,] -2.05706032  0.78894494  0.26552109  0.388088643\n",
       "[25,]  3.08596855 -0.05775318 -0.62110421 -0.218939612\n",
       "[26,]  0.16367555  0.04317932 -0.24481850  0.560248997\n",
       "[27,] -1.37265053  0.02220972  0.23378320 -0.257399715\n",
       "[28,] -2.16097778  0.13733233 -0.35589739  0.093123683\n",
       "[29,] -2.40434827 -0.48613137  0.16154441 -0.007914021\n",
       "[30,] -0.50287468  0.14734317  0.20590831 -0.122078819"
      ]
     },
     "metadata": {},
     "output_type": "display_data"
    }
   ],
   "source": [
    "student.pr$scores #主成分的观测值,将样本数据代入主成分的值 (输出为矩阵)"
   ]
  },
  {
   "cell_type": "markdown",
   "metadata": {},
   "source": [
    "predict(object):主成分的观测值,将样本数据代入主成分的值(输出为矩阵), 与object$scores输出结果相同\n",
    "\n",
    "object: princomp()得到的对象.\n",
    "\n",
    "screeplot(object, type=c(\"barplot \", \"lines\")) : 画崖底碎石图\n",
    "\n",
    "object: princomp()得到的对象;\n",
    "\n",
    "type: 画出碎石图的类型, barplot是直方图类型, lines是直线图\n",
    "类型, 默认为直方图类型;\n",
    "\n",
    "plot(object)同screeplot.\n",
    "\n",
    "可根据崖底碎石图的拐点确定主成分个数. \n"
   ]
  },
  {
   "cell_type": "markdown",
   "metadata": {},
   "source": [
    "biplot(object, choice=1:2): 画出数据关于主成分的散点图和原坐标在主成分下的方向;\n",
    "分别以主成分1,2作为横纵坐标, 计算原始样本数据的1,2主成分的值, 在此坐标轴画出散点图.\n",
    "- object: princomp()得到的对象;\n",
    "- choice: 选择的主成分, 默认值是第1第2主成分. "
   ]
  },
  {
   "cell_type": "code",
   "execution_count": 13,
   "metadata": {},
   "outputs": [
    {
     "data": {
      "image/png": "[encoded data removed]",
      "text/plain": [
       "plot without title"
      ]
     },
     "metadata": {
      "image/png": {
       "height": 420,
       "width": 420
      }
     },
     "output_type": "display_data"
    }
   ],
   "source": [
    "biplot(student.pr)\n"
   ]
  },
  {
   "cell_type": "markdown",
   "metadata": {},
   "source": [
    "上图根据30名同学的第1,2主成分的数值画出散点图, 从中可看出23号同学的第二主成分比较大, 11,15号同学的第一主成分比较大.同时上图红色箭头表示X1等由Y1,Y2表出的向量图.\n",
    "\n",
    "根据eg1程序结果分析: 由累积贡献率或崖底碎石图判断,选取前两个主成分即可.\n"
   ]
  },
  {
   "cell_type": "markdown",
   "metadata": {},
   "source": [
    "### 应用R软件进行因子分析\n",
    "\n",
    "示例：对10名学生数学（X1）、物理（X2）、化学（X3）、语文（X4）、英语（X5）考试成绩数据进行因子分析\n"
   ]
  },
  {
   "cell_type": "code",
   "execution_count": 32,
   "metadata": {},
   "outputs": [
    {
     "data": {
      "text/html": [
       "<table class=\"dataframe\">\n",
       "<caption>A data.frame: 10 × 5</caption>\n",
       "<thead>\n",
       "\t<tr><th scope=col>X1</th><th scope=col>X2</th><th scope=col>X3</th><th scope=col>X4</th><th scope=col>X5</th></tr>\n",
       "\t<tr><th scope=col>&lt;int&gt;</th><th scope=col>&lt;int&gt;</th><th scope=col>&lt;int&gt;</th><th scope=col>&lt;int&gt;</th><th scope=col>&lt;int&gt;</th></tr>\n",
       "</thead>\n",
       "<tbody>\n",
       "\t<tr><td>45</td><td>89</td><td>56</td><td>56</td><td>81</td></tr>\n",
       "\t<tr><td>58</td><td>90</td><td>56</td><td>56</td><td>56</td></tr>\n",
       "\t<tr><td>88</td><td>85</td><td>99</td><td>44</td><td>85</td></tr>\n",
       "\t<tr><td>85</td><td>66</td><td>55</td><td>66</td><td>45</td></tr>\n",
       "\t<tr><td>35</td><td>49</td><td>96</td><td>85</td><td>63</td></tr>\n",
       "\t<tr><td>45</td><td>58</td><td>56</td><td>56</td><td>48</td></tr>\n",
       "\t<tr><td>58</td><td>97</td><td>56</td><td>56</td><td>78</td></tr>\n",
       "\t<tr><td>48</td><td>85</td><td>99</td><td>44</td><td>68</td></tr>\n",
       "\t<tr><td>65</td><td>76</td><td>55</td><td>66</td><td>27</td></tr>\n",
       "\t<tr><td>15</td><td>49</td><td>96</td><td>87</td><td> 8</td></tr>\n",
       "</tbody>\n",
       "</table>\n"
      ],
      "text/latex": [
       "A data.frame: 10 × 5\n",
       "\\begin{tabular}{lllll}\n",
       " X1 & X2 & X3 & X4 & X5\\\\\n",
       " <int> & <int> & <int> & <int> & <int>\\\\\n",
       "\\hline\n",
       "\t 45 & 89 & 56 & 56 & 81\\\\\n",
       "\t 58 & 90 & 56 & 56 & 56\\\\\n",
       "\t 88 & 85 & 99 & 44 & 85\\\\\n",
       "\t 85 & 66 & 55 & 66 & 45\\\\\n",
       "\t 35 & 49 & 96 & 85 & 63\\\\\n",
       "\t 45 & 58 & 56 & 56 & 48\\\\\n",
       "\t 58 & 97 & 56 & 56 & 78\\\\\n",
       "\t 48 & 85 & 99 & 44 & 68\\\\\n",
       "\t 65 & 76 & 55 & 66 & 27\\\\\n",
       "\t 15 & 49 & 96 & 87 &  8\\\\\n",
       "\\end{tabular}\n"
      ],
      "text/markdown": [
       "\n",
       "A data.frame: 10 × 5\n",
       "\n",
       "| X1 &lt;int&gt; | X2 &lt;int&gt; | X3 &lt;int&gt; | X4 &lt;int&gt; | X5 &lt;int&gt; |\n",
       "|---|---|---|---|---|\n",
       "| 45 | 89 | 56 | 56 | 81 |\n",
       "| 58 | 90 | 56 | 56 | 56 |\n",
       "| 88 | 85 | 99 | 44 | 85 |\n",
       "| 85 | 66 | 55 | 66 | 45 |\n",
       "| 35 | 49 | 96 | 85 | 63 |\n",
       "| 45 | 58 | 56 | 56 | 48 |\n",
       "| 58 | 97 | 56 | 56 | 78 |\n",
       "| 48 | 85 | 99 | 44 | 68 |\n",
       "| 65 | 76 | 55 | 66 | 27 |\n",
       "| 15 | 49 | 96 | 87 |  8 |\n",
       "\n"
      ],
      "text/plain": [
       "   X1 X2 X3 X4 X5\n",
       "1  45 89 56 56 81\n",
       "2  58 90 56 56 56\n",
       "3  88 85 99 44 85\n",
       "4  85 66 55 66 45\n",
       "5  35 49 96 85 63\n",
       "6  45 58 56 56 48\n",
       "7  58 97 56 56 78\n",
       "8  48 85 99 44 68\n",
       "9  65 76 55 66 27\n",
       "10 15 49 96 87  8"
      ]
     },
     "metadata": {},
     "output_type": "display_data"
    }
   ],
   "source": [
    "chengji<-read.table('./asset/student.txt',header =  T) \n",
    "chengji"
   ]
  },
  {
   "cell_type": "code",
   "execution_count": 36,
   "metadata": {},
   "outputs": [],
   "source": [
    "fact1<-factanal(x=chengji, factors=2, scores= \"Bartlett\")"
   ]
  },
  {
   "cell_type": "markdown",
   "metadata": {},
   "source": [
    " factors=2表示选取两个因子， scores= “Bartlett”表示采用“Bartlett”方法（加权最小二乘法）求因子得分（即得到因子的估计值）\n",
    "        \n",
    "factanal:因子分析的命令\n"
   ]
  },
  {
   "cell_type": "code",
   "execution_count": 37,
   "metadata": {},
   "outputs": [
    {
     "data": {
      "text/plain": [
       "\n",
       "Call:\n",
       "factanal(x = chengji, factors = 2, scores = \"Bartlett\")\n",
       "\n",
       "Uniquenesses:\n",
       "   X1    X2    X3    X4    X5 \n",
       "0.622 0.227 0.005 0.171 0.419 \n",
       "\n",
       "Loadings:\n",
       "   Factor1 Factor2\n",
       "X1  0.572  -0.226 \n",
       "X2  0.844  -0.246 \n",
       "X3          0.993 \n",
       "X4 -0.908         \n",
       "X5  0.755   0.108 \n",
       "\n",
       "               Factor1 Factor2\n",
       "SS loadings      2.443   1.114\n",
       "Proportion Var   0.489   0.223\n",
       "Cumulative Var   0.489   0.711\n",
       "\n",
       "Test of the hypothesis that 2 factors are sufficient.\n",
       "The chi square statistic is 0.27 on 1 degree of freedom.\n",
       "The p-value is 0.606 "
      ]
     },
     "metadata": {},
     "output_type": "display_data"
    }
   ],
   "source": [
    "fact1\n"
   ]
  },
  {
   "cell_type": "markdown",
   "metadata": {},
   "source": [
    "1.其中SS loadings表示载荷矩阵中每列元素的平方和，第一个元素表示第一个潜在因子对所有变量的总影响，第二个元素表示第二个潜在因子对所有变量的总影响。\n",
    "\n",
    "2.Test of the hypothesis that 2 factors are sufficient.表示认为\n",
    "    两个因子比较合理， p-value是假设检验的参数值。\n"
   ]
  },
  {
   "cell_type": "markdown",
   "metadata": {},
   "source": []
  }
 ],
 "metadata": {
  "kernelspec": {
   "display_name": "R",
   "language": "R",
   "name": "ir"
  },
  "language_info": {
   "codemirror_mode": "r",
   "file_extension": ".r",
   "mimetype": "text/x-r-source",
   "name": "R",
   "pygments_lexer": "r",
   "version": "4.1.2"
  },
  "orig_nbformat": 4
 },
 "nbformat": 4,
 "nbformat_minor": 2
}
